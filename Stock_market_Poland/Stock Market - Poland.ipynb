{
 "cells": [
  {
   "cell_type": "markdown",
   "metadata": {},
   "source": [
    "# Stock Market Analysis Project"
   ]
  },
  {
   "cell_type": "markdown",
   "metadata": {},
   "source": [
    "This analysis present stock data related to a 5 bigest banks in Poland, from 1 March 2020 to 30 July 2020 (During the Coronavirus crisis). Keep in mind that this project only shows how to use Python solutions in stock market analysis. Don't infer financial trading advice from the analysis I did here. "
   ]
  },
  {
   "cell_type": "markdown",
   "metadata": {},
   "source": [
    " Names of banks: \n",
    " - Alior Bank SA (ALR)\n",
    " - mBank SA (MBK)\n",
    " - Bank Polska Kasa Opieki SA (PEO)\n",
    " - Powszechna Kasa Oszczędności Bank Polski (PKO)\n",
    " - Santander Bank Polska (SPL)"
   ]
  },
  {
   "cell_type": "markdown",
   "metadata": {},
   "source": [
    "### PART 1: Import libraries"
   ]
  },
  {
   "cell_type": "code",
   "execution_count": null,
   "metadata": {},
   "outputs": [],
   "source": [
    "import numpy as np\n",
    "import pandas as pd\n",
    "import matplotlib.pyplot as plt"
   ]
  },
  {
   "cell_type": "markdown",
   "metadata": {},
   "source": [
    "### PART 2: Getting the Data \n",
    "\n",
    "In this step we use pandas to obtain historical stock data from CSV files. Each stock price history is in another CSV file. First, we merge all files to one CSV file and save it. "
   ]
  },
  {
   "cell_type": "code",
   "execution_count": null,
   "metadata": {},
   "outputs": [],
   "source": [
    "import os\n",
    "from functools import reduce\n",
    "os.getcwd()"
   ]
  },
  {
   "cell_type": "code",
   "execution_count": null,
   "metadata": {},
   "outputs": [],
   "source": [
    "alr = pd.read_csv('Data/ALR_Stock_PL.csv')\n",
    "mbk = pd.read_csv('Data/MBK_Stock_PL.csv')\n",
    "peo = pd.read_csv('Data/PEO_Stock_PL.csv')\n",
    "pko = pd.read_csv('Data/PKO_Stock_PL.csv')\n",
    "spl = pd.read_csv('Data/SPL_Stock_PL.csv')"
   ]
  },
  {
   "cell_type": "code",
   "execution_count": null,
   "metadata": {},
   "outputs": [],
   "source": [
    "dfs = [alr, mbk, peo, pko, spl]\n",
    "df_final = reduce(lambda left, right: pd.merge(left, right, on='Date'),dfs)"
   ]
  },
  {
   "cell_type": "code",
   "execution_count": null,
   "metadata": {},
   "outputs": [],
   "source": [
    "df_final.to_csv(\"Data/01_output.csv\", index=False)"
   ]
  },
  {
   "cell_type": "markdown",
   "metadata": {},
   "source": [
    "### Part 3:Visualizing the Data\n",
    "\n",
    "In this step we create some plots which are absolutely necessary to analyse Stock Market data. At the baginning, we find all columns which contain open stock prices for banks.  "
   ]
  },
  {
   "cell_type": "code",
   "execution_count": null,
   "metadata": {},
   "outputs": [],
   "source": [
    "output = pd.read_csv('Data/01_output.csv')"
   ]
  },
  {
   "cell_type": "code",
   "execution_count": null,
   "metadata": {},
   "outputs": [],
   "source": [
    "open_cols = [col for col in output.columns if 'open' in col]\n",
    "print(open_cols)"
   ]
  },
  {
   "cell_type": "code",
   "execution_count": null,
   "metadata": {},
   "outputs": [],
   "source": [
    "font = {'weight' : 'bold',\n",
    "        'size'   : 15}\n",
    "plt.rc('font', **font)\n",
    "\n",
    "colors = ['green', 'brown', 'blue', 'red', 'orange']"
   ]
  },
  {
   "cell_type": "markdown",
   "metadata": {},
   "source": [
    "#### Below, we create first subplots what present open stock prices for each analized bank. Becouse stock pirces value difference is significant, we decided to present data on five plots. That increase readable of graphs."
   ]
  },
  {
   "cell_type": "code",
   "execution_count": null,
   "metadata": {
    "scrolled": false
   },
   "outputs": [],
   "source": [
    "fig, axs = plt.subplots(5, sharex=True, gridspec_kw={'hspace': 0.07})\n",
    "\n",
    "fig.suptitle('Open Stock Prices - Polish Banks during Coronavirus')\n",
    "fig.set_figheight(30)\n",
    "fig.set_figwidth(12)\n",
    "fig.subplots_adjust(top=0.96)\n",
    "\n",
    "num = 0\n",
    "\n",
    "for ax in axs:\n",
    "    ax.plot(output.Date, output[open_cols[num]], color = colors[num], label = open_cols[num][:3])\n",
    "    ax.label_outer()\n",
    "    ax.grid(True)\n",
    "    ax.tick_params('x', labelrotation=90)\n",
    "    ax.set_ylabel(\"Stock Price [PLN]\", labelpad=20)\n",
    "    ax.set_xticks(output.Date[::4])\n",
    "    ax.set_xlim(output.Date[0], output['Date'].iloc[-1])\n",
    "    ax.legend(fancybox=True, shadow=True)\n",
    "    num +=1\n",
    "\n",
    "fig.savefig('images/open_prices.jpg', dpi=300)"
   ]
  },
  {
   "cell_type": "code",
   "execution_count": null,
   "metadata": {},
   "outputs": [],
   "source": [
    "volume_cols = [col for col in output.columns if 'volume' in col]\n",
    "print(volume_cols)"
   ]
  },
  {
   "cell_type": "code",
   "execution_count": null,
   "metadata": {},
   "outputs": [],
   "source": [
    "vol_p = plt.figure(figsize= (14,11))\n",
    "\n",
    "for line in range(len(volume_cols)):\n",
    "    plt.plot(output.Date, output[volume_cols[line]], color = colors[line], label = volume_cols[line][:3])\n",
    "\n",
    "plt.legend(fancybox=True, shadow=True)\n",
    "plt.xticks(output.Date[::5], rotation=60, ha=\"right\", fontweight=\"light\")\n",
    "plt.xlim(output.Date[0], output['Date'].iloc[-1])\n",
    "plt.title('Volume Traded', pad=20)\n",
    "plt.grid(True)\n",
    "\n",
    "plt.savefig('images/volume_traded.jpg', dpi=200)\n",
    "plt.show()"
   ]
  },
  {
   "cell_type": "code",
   "execution_count": null,
   "metadata": {},
   "outputs": [],
   "source": [
    "#create a list of stock ticker for each Bank. \n",
    "ticker = []\n",
    "\n",
    "for item in range(len(volume_cols)):\n",
    "    ticker.append(volume_cols[item][:3])\n",
    "    \n",
    "print(ticker)"
   ]
  },
  {
   "cell_type": "code",
   "execution_count": null,
   "metadata": {},
   "outputs": [],
   "source": [
    "#calculate total traded value, that to multiple open stock price by volume and create new columns. \n",
    "for col in range(len(ticker)):\n",
    "    output['{}_traded'.format(ticker[col])] = output['{}_open'.format(ticker[col])] * output['{}_volume'.format(ticker[col])]\n",
    "output.to_csv('Data/02_output_traded.csv')\n",
    "traded = pd.read_csv('Data/02_output_traded.csv')"
   ]
  },
  {
   "cell_type": "code",
   "execution_count": null,
   "metadata": {},
   "outputs": [],
   "source": [
    "traded_cols = [col for col in traded.columns if 'traded' in col]\n",
    "print(traded_cols)"
   ]
  },
  {
   "cell_type": "markdown",
   "metadata": {},
   "source": [
    "#### This graf visualise total traded value, what is a open stock price multipy by traded volume in current day. "
   ]
  },
  {
   "cell_type": "code",
   "execution_count": null,
   "metadata": {},
   "outputs": [],
   "source": [
    "traded_p = plt.figure(figsize= (14,11))\n",
    "\n",
    "for line in range(len(traded_cols)):\n",
    "    plt.plot(traded.Date, traded[traded_cols[line]], color = colors[line], label = traded_cols[line][:3])\n",
    "\n",
    "plt.legend(fancybox=True, shadow=True)\n",
    "plt.xticks(traded.Date[::5], rotation=60, ha=\"right\", fontweight=\"light\")\n",
    "plt.xlim(traded.Date[0], traded['Date'].iloc[-1])\n",
    "plt.title('Total Traded', pad=20)\n",
    "plt.grid(True)\n",
    "\n",
    "plt.savefig('images/total_traded.jpg', dpi=200)\n",
    "plt.show()"
   ]
  },
  {
   "cell_type": "code",
   "execution_count": null,
   "metadata": {},
   "outputs": [],
   "source": [
    "#Select open price columns and save to the separated table.\n",
    "open_tab = pd.concat([traded.ALR_open, traded.MBK_open, traded.PEO_open, traded.PKO_open, traded.SPL_open], axis=1)\n",
    "open_tab.columns = ['ALR Open', 'MBK Open', 'PEO Open', 'PKO Open', 'SPL Open']\n",
    "open_tab.to_csv('Data/03_output_open.csv')\n",
    "\n",
    "open_tab.head()"
   ]
  },
  {
   "cell_type": "markdown",
   "metadata": {},
   "source": [
    "\n",
    "\n",
    "#### This subplots present correlation matrix between stock prices. In most cases we see, that is positive correlation, but we can notice that the strongest relationship is between PEO and PKO. We can also observe that the worst price correlation is between Alior Bank and others banks. \n",
    "\n"
   ]
  },
  {
   "cell_type": "code",
   "execution_count": null,
   "metadata": {},
   "outputs": [],
   "source": [
    "from pandas.plotting import scatter_matrix\n",
    "\n",
    "axes = scatter_matrix(open_tab, figsize=(15,15), alpha=0.7, diagonal='kde')\n",
    "\n",
    "for ax in axes.reshape(-1):\n",
    "    ax.yaxis.label.set_rotation(0)\n",
    "    ax.get_yaxis().set_label_coords(-0.3,0.4)\n",
    "    ax.get_xaxis().set_label_coords(0.5,-0.1)\n",
    "    ax.set_xticks(()) \n",
    "    ax.set_yticks(())\n",
    "    \n",
    "plt.suptitle('Correlation Matrix between Open Stock Prices')\n",
    "plt.subplots_adjust(top=0.95)\n",
    "plt.savefig('images/matrix_open.jpg', dpi=300)\n",
    "plt.show()"
   ]
  }
 ],
 "metadata": {
  "kernelspec": {
   "display_name": "Python 3",
   "language": "python",
   "name": "python3"
  },
  "language_info": {
   "codemirror_mode": {
    "name": "ipython",
    "version": 3
   },
   "file_extension": ".py",
   "mimetype": "text/x-python",
   "name": "python",
   "nbconvert_exporter": "python",
   "pygments_lexer": "ipython3",
   "version": "3.7.6"
  }
 },
 "nbformat": 4,
 "nbformat_minor": 4
}
